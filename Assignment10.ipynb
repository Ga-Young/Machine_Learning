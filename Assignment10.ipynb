{
 "cells": [
  {
   "cell_type": "markdown",
   "metadata": {},
   "source": [
    "<h1>20156042 Kim GaYoung</h1>"
   ]
  },
  {
   "cell_type": "code",
   "execution_count": 4,
   "metadata": {},
   "outputs": [],
   "source": [
    "import numpy.linalg as lin"
   ]
  },
  {
   "cell_type": "code",
   "execution_count": 5,
   "metadata": {},
   "outputs": [],
   "source": [
    "import matplotlib.pyplot as plt\n",
    "import numpy as np\n",
    "import random\n",
    "\n",
    "#load train dataset\n",
    "file_data\t\t= \"mnist_train.csv\"\n",
    "handle_file\t= open(file_data, \"r\")\n",
    "data        \t\t= handle_file.readlines()\n",
    "handle_file.close()\n",
    "\n",
    "size_row\t= 28    # height of the image\n",
    "size_col  \t= 28    # width of the image\n",
    "\n",
    "num_image\t= len(data)\n",
    "count       \t= 0     # count for the number of images\n",
    "\n",
    "#\n",
    "# normalize the values of the input data to be [0, 1]\n",
    "#\n",
    "def normalize(data):\n",
    "\n",
    "    data_normalized = (data - min(data)) / (max(data) - min(data))\n",
    "\n",
    "    return(data_normalized)\n",
    "\n",
    "#\n",
    "# example of distance function between two vectors x and y\n",
    "#\n",
    "def distance(x, y):\n",
    "\n",
    "    d = (x - y) ** 2\n",
    "    s = np.sum(d)\n",
    "    # r = np.sqrt(s)\n",
    "\n",
    "    return(s)\n",
    "\n",
    "#\n",
    "# make a matrix each column of which represents an images in a vector form \n",
    "#\n",
    "list_image  = np.empty((size_row * size_col, num_image), dtype=float)\n",
    "list_label  = np.empty(num_image, dtype=int)\n",
    "\n",
    "for line in data:\n",
    "\n",
    "    line_data   = line.split(',')\n",
    "    label       = line_data[0]\n",
    "    im_vector   = np.asfarray(line_data[1:])\n",
    "    im_vector   = normalize(im_vector)\n",
    "\n",
    "    list_label[count]       = label\n",
    "    list_image[:, count]    = im_vector    \n",
    "\n",
    "    count += 1"
   ]
  },
  {
   "cell_type": "code",
   "execution_count": 6,
   "metadata": {},
   "outputs": [],
   "source": [
    "# load test dataset\n",
    "file_data_test\t\t= \"mnist_test.csv\"\n",
    "\n",
    "handle_file\t= open(file_data_test, \"r\")\n",
    "data_test      \t\t= handle_file.readlines()\n",
    "handle_file.close()\n",
    "\n",
    "size_row\t= 28    # height of the image\n",
    "size_col  \t= 28    # width of the image\n",
    "\n",
    "num_image_test = len(data_test)\n",
    "count       \t= 0     # count for the number of images\n",
    "\n",
    "list_image_test = np.empty((size_row * size_col, num_image_test), dtype=float)\n",
    "list_label_test  = np.empty(num_image_test, dtype=int)\n",
    "    \n",
    "for line in data_test:\n",
    "    line_data_test = line.split(',')\n",
    "    label_test     = line_data_test[0]\n",
    "    im_vector_test = np.asfarray(line_data_test[1:])\n",
    "    im_vector_test = normalize(im_vector_test)\n",
    "    \n",
    "    list_label_test[count]   = label_test\n",
    "    list_image_test[:,count]      = im_vector_test\n",
    "    count += 1"
   ]
  },
  {
   "cell_type": "markdown",
   "metadata": {},
   "source": [
    "1. Compute an optimal model parameter using the training dataset for each classifier f_d(x, w)"
   ]
  },
  {
   "cell_type": "code",
   "execution_count": 12,
   "metadata": {},
   "outputs": [],
   "source": [
    "A = np.zeros((num_image,size_row * size_col+1),dtype = 'float')      # A is data\n",
    "B = np.zeros((num_image,10),dtype = 'float')                          # B is (-1 or 1)  ->  Ax = B\n",
    "\n",
    "for i in range(num_image):\n",
    "    A[i,0] = 1\n",
    "    A[i,1:len(A[0,:])] = list_image[:,i]\n",
    "    for j in range(10):\n",
    "        if list_label[i] == j :\n",
    "            B[i,j] = 1\n",
    "        else : \n",
    "            B[i,j] = -1\n",
    "        \n",
    "    for j in range(size_row * size_col):\n",
    "        if list_image[j][i] == 0:\n",
    "            list_image[j][i] += random.randrange(1,5)/255\n",
    "            "
   ]
  },
  {
   "cell_type": "code",
   "execution_count": 14,
   "metadata": {},
   "outputs": [],
   "source": [
    "# theta 구하기\n",
    "theta = np.zeros((size_row * size_col+1,10), dtype = 'float')\n",
    "theta = lin.inv(np.matrix(A.T) * np.matrix(A)) * np.matrix(A.T) * np.matrix(B)\n"
   ]
  },
  {
   "cell_type": "code",
   "execution_count": 18,
   "metadata": {},
   "outputs": [],
   "source": [
    "#앞에 구한 theta를 이용해 test data로 B구하기 \n",
    "testA = np.zeros((num_image_test, size_row * size_col+1),dtype = 'float')    #testA is data\n",
    "testB = np.zeros((num_image_test, 10),dtype = 'float')                       #testB is (-1 or 1)  ->  Ax = B\n",
    "for i in range(num_image_test):\n",
    "    testA[i,0] = 1\n",
    "    testA[i,1:len(testA[0,:])] = list_image_test[:,i]\n",
    "    \n",
    "testB = testA*theta"
   ]
  },
  {
   "cell_type": "code",
   "execution_count": 28,
   "metadata": {},
   "outputs": [
    {
     "name": "stdout",
     "output_type": "stream",
     "text": [
      "[7 2 1 ... 4 5 6]\n"
     ]
    }
   ],
   "source": [
    "testB_label = np.zeros(num_image_test,dtype = 'int')\n",
    "\n",
    "for i in range(len(testB)):\n",
    "    m = testB[i,0]\n",
    "    for j in range(10):\n",
    "        if m < testB[i,j]:\n",
    "            m = testB[i,j]\n",
    "            testB_label[i] = j"
   ]
  },
  {
   "cell_type": "markdown",
   "metadata": {},
   "source": [
    "2. Compute (1) true positive rate, (2) error rate using (1) training dataset and (2) testing dataset."
   ]
  },
  {
   "cell_type": "markdown",
   "metadata": {},
   "source": [
    "- training dataset"
   ]
  },
  {
   "cell_type": "code",
   "execution_count": 31,
   "metadata": {},
   "outputs": [],
   "source": [
    "trainingB_label = np.zeros(num_image, dtype = 'int')\n",
    "\n",
    "trainingB = A*theta\n",
    "\n",
    "for i in range(len(trainingB)):\n",
    "    m = trainingB[i,0]\n",
    "    for j in range(10):\n",
    "        if m < trainingB[i,j]:\n",
    "            m = trainingB[i,j]\n",
    "            trainingB_label[i] = j"
   ]
  },
  {
   "cell_type": "code",
   "execution_count": 34,
   "metadata": {},
   "outputs": [
    {
     "name": "stdout",
     "output_type": "stream",
     "text": [
      "true positive rate  :  85.88666666666667 %\n",
      "error rate          :  14.113333333333333 %\n"
     ]
    }
   ],
   "source": [
    "count_tpositive = 0\n",
    "count_error = 0 \n",
    "\n",
    "for i in range(num_image):\n",
    "    if list_label[i] == trainingB_label[i]:\n",
    "        count_tpositive += 1\n",
    "    else:\n",
    "        count_error += 1\n",
    "            \n",
    "true_positive_rate = count_tpositive / num_image *100\n",
    "error_rate = count_error / num_image *100\n",
    "\n",
    "print(\"true positive rate  : \" , true_positive_rate , \"%\")\n",
    "print(\"error rate          : \" , error_rate , \"%\")"
   ]
  },
  {
   "cell_type": "markdown",
   "metadata": {},
   "source": [
    "- testing dataset"
   ]
  },
  {
   "cell_type": "code",
   "execution_count": 36,
   "metadata": {},
   "outputs": [
    {
     "name": "stdout",
     "output_type": "stream",
     "text": [
      "true positive rate  :  84.25 %\n",
      "error rate          :  15.75 %\n"
     ]
    }
   ],
   "source": [
    "count_tpositive = 0\n",
    "count_error = 0 \n",
    "\n",
    "for i in range(num_image_test):\n",
    "    if list_label_test[i] == testB_label[i]:\n",
    "        count_tpositive += 1\n",
    "    else:\n",
    "        count_error += 1\n",
    "            \n",
    "true_positive_rate = count_tpositive / num_image_test *100\n",
    "error_rate = count_error / num_image_test *100\n",
    "\n",
    "print(\"true positive rate  : \" , true_positive_rate , \"%\")\n",
    "print(\"error rate          : \" , error_rate , \"%\")"
   ]
  },
  {
   "cell_type": "code",
   "execution_count": null,
   "metadata": {},
   "outputs": [],
   "source": []
  }
 ],
 "metadata": {
  "kernelspec": {
   "display_name": "Python 3",
   "language": "python",
   "name": "python3"
  },
  "language_info": {
   "codemirror_mode": {
    "name": "ipython",
    "version": 3
   },
   "file_extension": ".py",
   "mimetype": "text/x-python",
   "name": "python",
   "nbconvert_exporter": "python",
   "pygments_lexer": "ipython3",
   "version": "3.7.1"
  }
 },
 "nbformat": 4,
 "nbformat_minor": 2
}
