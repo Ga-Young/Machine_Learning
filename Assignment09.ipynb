{
 "cells": [
  {
   "cell_type": "markdown",
   "metadata": {},
   "source": [
    "<h1>20156042 Kim GaYoung</h1>"
   ]
  },
  {
   "cell_type": "code",
   "execution_count": 1,
   "metadata": {},
   "outputs": [],
   "source": [
    "import numpy.linalg as lin"
   ]
  },
  {
   "cell_type": "code",
   "execution_count": 2,
   "metadata": {},
   "outputs": [],
   "source": [
    "import matplotlib.pyplot as plt\n",
    "import numpy as np\n",
    "import random\n",
    "\n",
    "file_data\t\t= \"mnist_train.csv\"\n",
    "handle_file\t= open(file_data, \"r\")\n",
    "data        \t\t= handle_file.readlines()\n",
    "handle_file.close()\n",
    "\n",
    "size_row\t= 28    # height of the image\n",
    "size_col  \t= 28    # width of the image\n",
    "\n",
    "num_image\t= len(data)\n",
    "count       \t= 0     # count for the number of images\n",
    "\n",
    "#\n",
    "# normalize the values of the input data to be [0, 1]\n",
    "#\n",
    "def normalize(data):\n",
    "\n",
    "    data_normalized = (data - min(data)) / (max(data) - min(data))\n",
    "\n",
    "    return(data_normalized)\n",
    "\n",
    "#\n",
    "# example of distance function between two vectors x and y\n",
    "#\n",
    "def distance(x, y):\n",
    "\n",
    "    d = (x - y) ** 2\n",
    "    s = np.sum(d)\n",
    "    # r = np.sqrt(s)\n",
    "\n",
    "    return(s)\n",
    "\n",
    "#\n",
    "# make a matrix each column of which represents an images in a vector form \n",
    "#\n",
    "list_image  = np.empty((size_row * size_col, num_image), dtype=float)\n",
    "list_label  = np.empty(num_image, dtype=int)\n",
    "\n",
    "for line in data:\n",
    "\n",
    "    line_data   = line.split(',')\n",
    "    label       = line_data[0]\n",
    "    im_vector   = np.asfarray(line_data[1:])\n",
    "    im_vector   = normalize(im_vector)\n",
    "\n",
    "    list_label[count]       = label\n",
    "    list_image[:, count]    = im_vector    \n",
    "\n",
    "    count += 1"
   ]
  },
  {
   "cell_type": "code",
   "execution_count": 3,
   "metadata": {},
   "outputs": [],
   "source": [
    "# 테스트 데이터 불러오기\n",
    "file_data_test\t\t= \"mnist_test.csv\"\n",
    "\n",
    "handle_file\t= open(file_data_test, \"r\")\n",
    "data_test      \t\t= handle_file.readlines()\n",
    "handle_file.close()\n",
    "\n",
    "size_row\t= 28    # height of the image\n",
    "size_col  \t= 28    # width of the image\n",
    "\n",
    "num_image_test = len(data_test)\n",
    "count       \t= 0     # count for the number of images\n",
    "\n",
    "list_image_test = np.empty((size_row * size_col, num_image_test), dtype=float)\n",
    "list_label_test  = np.empty(num_image_test, dtype=int)\n",
    "    \n",
    "for line in data_test:\n",
    "    line_data_test = line.split(',')\n",
    "    label_test     = line_data_test[0]\n",
    "    im_vector_test = np.asfarray(line_data_test[1:])\n",
    "    im_vector_test = normalize(im_vector_test)\n",
    "    \n",
    "    list_label_test[count]   = label_test\n",
    "    list_image_test[:,count]      = im_vector_test\n",
    "    count += 1"
   ]
  },
  {
   "cell_type": "markdown",
   "metadata": {},
   "source": [
    "1. Compute an optimal model parameter using the training dataset"
   ]
  },
  {
   "cell_type": "code",
   "execution_count": 6,
   "metadata": {},
   "outputs": [],
   "source": [
    "A = np.zeros((num_image,size_row * size_col+1),dtype = 'float')      # A is data\n",
    "B = np.zeros((num_image,1),dtype = 'float')                          # B is (-1 or 1)  ->  Ax = B\n",
    "\n",
    "for i in range(num_image):\n",
    "    A[i,0] = 1\n",
    "    A[i,1:len(A[0,:])] = list_image[:,i]\n",
    "    if list_label[i] == 0 :\n",
    "        B[i] = 1\n",
    "    else : \n",
    "        B[i] = -1\n",
    "        \n",
    "    for j in range(size_row * size_col):\n",
    "        if list_image[j][i] == 0:\n",
    "            list_image[j][i] += random.randrange(1,5)/255"
   ]
  },
  {
   "cell_type": "code",
   "execution_count": 7,
   "metadata": {},
   "outputs": [],
   "source": [
    "# theta 구하기\n",
    "theta = np.zeros((size_row * size_col+1,1), dtype = 'float')\n",
    "theta = lin.inv(np.matrix(A.T) * np.matrix(A)) * np.matrix(A.T) * np.matrix(B)"
   ]
  },
  {
   "cell_type": "code",
   "execution_count": 13,
   "metadata": {},
   "outputs": [],
   "source": [
    "#앞에 구한 theta를 이용해 test data로 B구하기 \n",
    "testA = np.zeros((num_image_test, size_row * size_col+1),dtype = 'float')   #testA is data\n",
    "testB = np.zeros((num_image_test, 1),dtype = 'float')                       #testB is (-1 or 1)  ->  Ax = B\n",
    "for i in range(num_image_test):\n",
    "    testA[i,0] = 1\n",
    "    testA[i,1:len(testA[0,:])] = list_image_test[:,i]\n",
    "    \n",
    "testB = testA*theta"
   ]
  },
  {
   "cell_type": "markdown",
   "metadata": {},
   "source": [
    "2. Compute (1) True Positive, (2) False Positive, (3) True Negative, (4) False Negative"
   ]
  },
  {
   "cell_type": "markdown",
   "metadata": {},
   "source": [
    "- testing dataset"
   ]
  },
  {
   "cell_type": "code",
   "execution_count": 10,
   "metadata": {},
   "outputs": [
    {
     "name": "stdout",
     "output_type": "stream",
     "text": [
      "true_positive  :  0.9285714285714286\n",
      "true_negative  :  0.992350332594235\n",
      "false_positive :  0.0076496674057649665\n",
      "false_negative :  0.07142857142857142\n",
      "accuracy :  0.9604608805828319\n"
     ]
    }
   ],
   "source": [
    "#testing dataset accuracy\n",
    "\n",
    "count_zero = 0       #실제 0인 데이터 갯수\n",
    "\n",
    "count_tpositive = 0  \n",
    "count_tnegative = 0  \n",
    "count_fpositive = 0\n",
    "count_fnegative = 0\n",
    "\n",
    "for i in range(num_image_test):\n",
    "        \n",
    "    if(list_label_test[i]==0):         #실제 0일때\n",
    "        count_zero += 1\n",
    "        if(testB[i] >= 0):             #내가 0이라고 대답한거\n",
    "            count_tpositive += 1\n",
    "        else:                          #내가 0이 아니라고 대답한거\n",
    "            count_fnegative += 1\n",
    "            \n",
    "    else :                             #실제 0이 아닐때\n",
    "        \n",
    "        if(testB[i] < 0):              #내가 0이 아니라고 대답한거\n",
    "            count_tnegative += 1\n",
    "        else:                          #내가 0이라고 대답한거\n",
    "            count_fpositive += 1\n",
    "            \n",
    "count_nonzero = num_image_test - count_zero #실제 0이 아닌 데이터 갯수\n",
    "\n",
    "true_positive = count_tpositive / count_zero \n",
    "true_negative = count_tnegative / count_nonzero\n",
    "false_positive = count_fpositive / count_nonzero\n",
    "false_negative = count_fnegative / count_zero\n",
    "\n",
    "accuracy = (true_positive + true_negative) / (true_positive + true_negative + false_positive + false_negative)\n",
    "\n",
    "print(\"true_positive  : \" , true_positive)\n",
    "print(\"true_negative  : \" , true_negative)\n",
    "print(\"false_positive : \" , false_positive)\n",
    "print(\"false_negative : \" , false_negative)\n",
    "print(\"accuracy : \" , accuracy)"
   ]
  },
  {
   "cell_type": "markdown",
   "metadata": {},
   "source": [
    "- training dataset"
   ]
  },
  {
   "cell_type": "code",
   "execution_count": 12,
   "metadata": {},
   "outputs": [
    {
     "name": "stdout",
     "output_type": "stream",
     "text": [
      "true_positive  :  0.8831168831168831\n",
      "true_negative  :  0.9959995555061674\n",
      "false_positive :  0.004000444493832648\n",
      "false_negative :  0.11688311688311688\n",
      "accuracy :  0.9395582193115253\n"
     ]
    }
   ],
   "source": [
    "# training dataset accuracy\n",
    "\n",
    "count_zero = 0       #실제 0인 데이터 갯수\n",
    "\n",
    "count_tpositive = 0  \n",
    "count_tnegative = 0  \n",
    "count_fpositive = 0\n",
    "count_fnegative = 0\n",
    "\n",
    "trainingB = A*theta\n",
    "\n",
    "for i in range(num_image_test):\n",
    "    if(list_label[i]==0):         #실제 0일때\n",
    "        count_zero += 1\n",
    "        if(trainingB[i] >= 0):             #내가 0이라고 대답한거\n",
    "            count_tpositive += 1\n",
    "        else:                          #내가 0이 아니라고 대답한거\n",
    "            count_fnegative += 1\n",
    "            \n",
    "    else :                             #실제 0이 아닐때\n",
    "        \n",
    "        if(trainingB[i] < 0):              #내가 0이 아니라고 대답한거\n",
    "            count_tnegative += 1\n",
    "        else:                          #내가 0이라고 대답한거\n",
    "            count_fpositive += 1\n",
    "            \n",
    "count_nonzero = num_image_test - count_zero #실제 0이 아닌 데이터 갯수\n",
    "\n",
    "true_positive = count_tpositive / count_zero \n",
    "true_negative = count_tnegative / count_nonzero\n",
    "false_positive = count_fpositive / count_nonzero\n",
    "false_negative = count_fnegative / count_zero\n",
    "\n",
    "accuracy = (true_positive + true_negative) / (true_positive + true_negative + false_positive + false_negative)\n",
    "\n",
    "print(\"true_positive  : \" , true_positive)\n",
    "print(\"true_negative  : \" , true_negative)\n",
    "print(\"false_positive : \" , false_positive)\n",
    "print(\"false_negative : \" , false_negative)\n",
    "print(\"accuracy : \" , accuracy)"
   ]
  },
  {
   "cell_type": "code",
   "execution_count": null,
   "metadata": {},
   "outputs": [],
   "source": []
  }
 ],
 "metadata": {
  "kernelspec": {
   "display_name": "Python 3",
   "language": "python",
   "name": "python3"
  },
  "language_info": {
   "codemirror_mode": {
    "name": "ipython",
    "version": 3
   },
   "file_extension": ".py",
   "mimetype": "text/x-python",
   "name": "python",
   "nbconvert_exporter": "python",
   "pygments_lexer": "ipython3",
   "version": "3.7.1"
  }
 },
 "nbformat": 4,
 "nbformat_minor": 2
}
