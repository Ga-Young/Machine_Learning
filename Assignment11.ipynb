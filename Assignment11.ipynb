{
 "cells": [
  {
   "cell_type": "markdown",
   "metadata": {},
   "source": [
    "<h1>20156042 Kim GaYoung</h1>"
   ]
  },
  {
   "cell_type": "code",
   "execution_count": 1,
   "metadata": {},
   "outputs": [],
   "source": [
    "import numpy.linalg as lin"
   ]
  },
  {
   "cell_type": "code",
   "execution_count": 2,
   "metadata": {},
   "outputs": [],
   "source": [
    "import matplotlib.pyplot as plt\n",
    "import numpy as np\n",
    "import random\n",
    "\n",
    "#load train dataset\n",
    "file_data\t\t= \"mnist_train.csv\"\n",
    "handle_file\t= open(file_data, \"r\")\n",
    "data        \t\t= handle_file.readlines()\n",
    "handle_file.close()\n",
    "\n",
    "size_row\t= 28    # height of the image\n",
    "size_col  \t= 28    # width of the image\n",
    "\n",
    "num_image\t= len(data)\n",
    "count       \t= 0     # count for the number of images\n",
    "\n",
    "#\n",
    "# normalize the values of the input data to be [0, 1]\n",
    "#\n",
    "def normalize(data):\n",
    "\n",
    "    data_normalized = (data - min(data)) / (max(data) - min(data))\n",
    "\n",
    "    return(data_normalized)\n",
    "\n",
    "#\n",
    "# example of distance function between two vectors x and y\n",
    "#\n",
    "def distance(x, y):\n",
    "\n",
    "    d = (x - y) ** 2\n",
    "    s = np.sum(d)\n",
    "    # r = np.sqrt(s)\n",
    "\n",
    "    return(s)\n",
    "\n",
    "#\n",
    "# make a matrix each column of which represents an images in a vector form \n",
    "#\n",
    "list_image  = np.empty((size_row * size_col, num_image), dtype=float)\n",
    "list_label  = np.empty(num_image, dtype=int)\n",
    "\n",
    "for line in data:\n",
    "\n",
    "    line_data   = line.split(',')\n",
    "    label       = line_data[0]\n",
    "    im_vector   = np.asfarray(line_data[1:])\n",
    "    im_vector   = normalize(im_vector)\n",
    "\n",
    "    list_label[count]       = label\n",
    "    list_image[:, count]    = im_vector    \n",
    "\n",
    "    count += 1"
   ]
  },
  {
   "cell_type": "code",
   "execution_count": 3,
   "metadata": {},
   "outputs": [],
   "source": [
    "# load test dataset\n",
    "file_data_test\t\t= \"mnist_test.csv\"\n",
    "\n",
    "handle_file\t= open(file_data_test, \"r\")\n",
    "data_test      \t\t= handle_file.readlines()\n",
    "handle_file.close()\n",
    "\n",
    "size_row\t= 28    # height of the image\n",
    "size_col  \t= 28    # width of the image\n",
    "\n",
    "num_image_test = len(data_test)\n",
    "count       \t= 0     # count for the number of images\n",
    "\n",
    "list_image_test = np.empty((size_row * size_col, num_image_test), dtype=float)\n",
    "list_label_test  = np.empty(num_image_test, dtype=int)\n",
    "    \n",
    "for line in data_test:\n",
    "    line_data_test = line.split(',')\n",
    "    label_test     = line_data_test[0]\n",
    "    im_vector_test = np.asfarray(line_data_test[1:])\n",
    "    im_vector_test = normalize(im_vector_test)\n",
    "    \n",
    "    list_label_test[count]   = label_test\n",
    "    list_image_test[:,count]      = im_vector_test\n",
    "    count += 1"
   ]
  },
  {
   "cell_type": "markdown",
   "metadata": {},
   "source": [
    "1. Compute an optimal model parameter using the training dataset for each classifier f_d(x, w)"
   ]
  },
  {
   "cell_type": "code",
   "execution_count": 39,
   "metadata": {},
   "outputs": [],
   "source": [
    "m =  180\n",
    "random_set = np.zeros((m, (size_row * size_col)) , dtype = 'float')          # m,784\n",
    "A = np.zeros((num_image, m) , dtype = 'float')                               # A is data    \n",
    "B = np.zeros((num_image,10),dtype = 'float')                                 # B is (-1 or 1)  ->  Ax = B     \n",
    "\n",
    "# make random_set for A\n",
    "for i in range(m):\n",
    "    for j in range(size_row * size_col):\n",
    "        random_set[i,j] = random.randrange(0, 256)"
   ]
  },
  {
   "cell_type": "code",
   "execution_count": 40,
   "metadata": {},
   "outputs": [],
   "source": [
    "# compute A\n",
    "for i in range(num_image):\n",
    "    A[i,0] = 1\n",
    "    for j in range(1,m):\n",
    "        A[i,j] = sum(random_set[j,:] * list_image[:,i])"
   ]
  },
  {
   "cell_type": "code",
   "execution_count": 41,
   "metadata": {},
   "outputs": [],
   "source": [
    "# compute B\n",
    "for i in range(num_image):\n",
    "    for j in range(10):\n",
    "            if list_label[i] == j :\n",
    "                B[i,j] = 1\n",
    "            else : \n",
    "                B[i,j] = -1"
   ]
  },
  {
   "cell_type": "code",
   "execution_count": 42,
   "metadata": {},
   "outputs": [],
   "source": [
    "# theta 구하기\n",
    "theta = np.zeros((m,10) , dtype = 'float')\n",
    "theta = lin.inv(np.matrix(A.T) * np.matrix(A)) * np.matrix(A.T) * np.matrix(B)"
   ]
  },
  {
   "cell_type": "code",
   "execution_count": 44,
   "metadata": {},
   "outputs": [],
   "source": [
    "testA = np.zeros((num_image_test, m),dtype = 'float')    # testA is data\n",
    "testB = np.zeros((num_image_test, 10),dtype = 'float')   # testB is (-1 or 1)  ->  Ax = B\n",
    "for i in range(num_image_test):\n",
    "    testA[i,0] = 1\n",
    "    for j in range(1,m):\n",
    "        testA[i,j] = sum(random_set[j,:] * list_image_test[:,i])\n",
    "    \n",
    "testB = testA * theta"
   ]
  },
  {
   "cell_type": "code",
   "execution_count": 45,
   "metadata": {},
   "outputs": [],
   "source": [
    "testB_label = np.zeros(num_image_test,dtype = 'int')\n",
    "\n",
    "for i in range(len(testB)):\n",
    "    m = testB[i,0]\n",
    "    for j in range(10):\n",
    "        if m < testB[i,j]:\n",
    "            m = testB[i,j]\n",
    "            testB_label[i] = j"
   ]
  },
  {
   "cell_type": "code",
   "execution_count": 46,
   "metadata": {},
   "outputs": [],
   "source": [
    "trainingB_label = np.zeros(num_image, dtype = 'int')\n",
    "trainingB = A*theta\n",
    "\n",
    "for i in range(len(trainingB)):\n",
    "    t = trainingB[i,0]\n",
    "    for j in range(10):\n",
    "        if t < trainingB[i,j]:\n",
    "            t = trainingB[i,j]\n",
    "            trainingB_label[i] = j"
   ]
  },
  {
   "cell_type": "markdown",
   "metadata": {},
   "source": [
    " 2. Compute (1) true positive rate, (2) error rate using (1) training dataset and (2) testing dataset."
   ]
  },
  {
   "cell_type": "markdown",
   "metadata": {},
   "source": [
    "-  training dataset"
   ]
  },
  {
   "cell_type": "code",
   "execution_count": 47,
   "metadata": {},
   "outputs": [
    {
     "name": "stdout",
     "output_type": "stream",
     "text": [
      "true positive rate  :  84.89166666666667 %\n",
      "error rate          :  15.108333333333333 %\n"
     ]
    }
   ],
   "source": [
    "count_tpositive = 0\n",
    "count_error = 0 \n",
    "\n",
    "for i in range(num_image):\n",
    "    if list_label[i] == trainingB_label[i]:\n",
    "        count_tpositive += 1\n",
    "    else:\n",
    "        count_error += 1\n",
    "            \n",
    "true_positive_rate = count_tpositive / num_image * 100\n",
    "error_rate = count_error / num_image * 100\n",
    "\n",
    "print(\"true positive rate  : \" , true_positive_rate , \"%\")\n",
    "print(\"error rate          : \" , error_rate , \"%\")"
   ]
  },
  {
   "cell_type": "markdown",
   "metadata": {},
   "source": [
    "- testing dataset"
   ]
  },
  {
   "cell_type": "code",
   "execution_count": 48,
   "metadata": {},
   "outputs": [
    {
     "name": "stdout",
     "output_type": "stream",
     "text": [
      "true positive rate  :  85.58 %\n",
      "error rate          :  14.42 %\n"
     ]
    }
   ],
   "source": [
    "count_tpositive = 0\n",
    "count_error = 0 \n",
    "\n",
    "for i in range(num_image_test):\n",
    "    if list_label_test[i] == testB_label[i]:\n",
    "        count_tpositive += 1\n",
    "    else:\n",
    "        count_error += 1\n",
    "            \n",
    "true_positive_rate = count_tpositive / num_image_test *100\n",
    "error_rate = count_error / num_image_test *100\n",
    "\n",
    "print(\"true positive rate  : \" , true_positive_rate , \"%\")\n",
    "print(\"error rate          : \" , error_rate , \"%\")"
   ]
  },
  {
   "cell_type": "code",
   "execution_count": null,
   "metadata": {},
   "outputs": [],
   "source": []
  }
 ],
 "metadata": {
  "kernelspec": {
   "display_name": "Python 3",
   "language": "python",
   "name": "python3"
  },
  "language_info": {
   "codemirror_mode": {
    "name": "ipython",
    "version": 3
   },
   "file_extension": ".py",
   "mimetype": "text/x-python",
   "name": "python",
   "nbconvert_exporter": "python",
   "pygments_lexer": "ipython3",
   "version": "3.7.1"
  }
 },
 "nbformat": 4,
 "nbformat_minor": 2
}
